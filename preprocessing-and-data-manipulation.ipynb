{
 "cells": [
  {
   "cell_type": "code",
   "execution_count": 10,
   "id": "287f9d02",
   "metadata": {},
   "outputs": [
    {
     "name": "stdout",
     "output_type": "stream",
     "text": [
      "✅ Weather data merged successfully and saved as 'enriched_spacex_launches.csv'\n"
     ]
    },
    {
     "name": "stderr",
     "output_type": "stream",
     "text": [
      "C:\\Users\\zafir\\AppData\\Local\\Temp\\ipykernel_8644\\4290106962.py:5: DtypeWarning: Columns (2) have mixed types. Specify dtype option on import or set low_memory=False.\n",
      "  weather_df = pd.read_csv(\"data/Global_Weather_Data.csv\")\n"
     ]
    }
   ],
   "source": [
    "import pandas as pd\n",
    "\n",
    "# Load the CSV files\n",
    "spacex_df = pd.read_csv(\"data/raw_spacex_launches.csv\")\n",
    "weather_df = pd.read_csv(\"data/Global_Weather_Data.csv\")\n",
    "\n",
    "# Select only the required weather columns (first N rows, matching SpaceX data length)\n",
    "weather_subset = weather_df[['temperature', 'humidity', 'wind_speed']].head(len(spacex_df))\n",
    "\n",
    "# Concatenate the weather data directly with SpaceX launch data\n",
    "merged_df = pd.concat([spacex_df.reset_index(drop=True), weather_subset.reset_index(drop=True)], axis=1)\n",
    "\n",
    "# Save the enriched dataset\n",
    "merged_df.to_csv(\"enriched_spacex_launches.csv\", index=False)\n",
    "\n",
    "print(\"✅ Weather data merged successfully and saved as 'enriched_spacex_launches.csv'\")\n"
   ]
  },
  {
   "cell_type": "code",
   "execution_count": 5,
   "id": "a4c98eb2",
   "metadata": {},
   "outputs": [
    {
     "name": "stdout",
     "output_type": "stream",
     "text": [
      "Processed data saved.\n"
     ]
    },
    {
     "name": "stderr",
     "output_type": "stream",
     "text": [
      "C:\\Users\\zafir\\AppData\\Local\\Temp\\ipykernel_12052\\3063388156.py:24: FutureWarning: DataFrame.fillna with 'method' is deprecated and will raise in a future version. Use obj.ffill() or obj.bfill() instead.\n",
      "  df[['temperature', 'humidity', 'wind_speed']] = df[['temperature', 'humidity', 'wind_speed']].fillna(method='ffill')\n"
     ]
    }
   ],
   "source": [
    "import pandas as pd\n",
    "from sklearn.preprocessing import LabelEncoder\n",
    "\n",
    "def preprocess_data():\n",
    "    df = pd.read_csv(\"data/enriched_spacex_launches.csv\")\n",
    "\n",
    "    # Drop missing target labels\n",
    "    df = df[df['success'].notna()]\n",
    "\n",
    "    # Select relevant features\n",
    "    df = df[[\n",
    "        'name',\n",
    "        'rocket',\n",
    "        'date_utc',\n",
    "        'success',\n",
    "        'payloads',\n",
    "        'launchpad',\n",
    "        'temperature',\n",
    "        'humidity',\n",
    "        'wind_speed'\n",
    "    ]]\n",
    "\n",
    "    # Fill missing weather values\n",
    "    df[['temperature', 'humidity', 'wind_speed']] = df[['temperature', 'humidity', 'wind_speed']].fillna(method='ffill')\n",
    "\n",
    "    # Convert launch date to datetime features\n",
    "    df['date_utc'] = pd.to_datetime(df['date_utc'])\n",
    "    df['year'] = df['date_utc'].dt.year\n",
    "    df['month'] = df['date_utc'].dt.month\n",
    "    df['day'] = df['date_utc'].dt.day\n",
    "    df['hour'] = df['date_utc'].dt.hour\n",
    "\n",
    "    # Encode categorical variables\n",
    "    le_rocket = LabelEncoder()\n",
    "    le_launchpad = LabelEncoder()\n",
    "    le_payloads = LabelEncoder()\n",
    "\n",
    "    df['rocket_encoded'] = le_rocket.fit_transform(df['rocket'].astype(str))\n",
    "    df['launchpad_encoded'] = le_launchpad.fit_transform(df['launchpad'].astype(str))\n",
    "    df['payload_mass'] = le_payloads.fit_transform(df['payloads'].astype(str))\n",
    "\n",
    "    # Final feature set\n",
    "    df_final = df[[\n",
    "        'rocket_encoded',\n",
    "        'launchpad_encoded',\n",
    "        'payload_mass',\n",
    "        'temperature',\n",
    "        'humidity',\n",
    "        'wind_speed',\n",
    "        'year',\n",
    "        'month',\n",
    "        'day',\n",
    "        'hour',\n",
    "        'success'\n",
    "    ]]\n",
    "\n",
    "    df_final.to_csv(\"data/processed_spacex_data.csv\", index=False)\n",
    "    print(\"Processed data saved.\")\n",
    "\n",
    "if __name__ == \"__main__\":\n",
    "    preprocess_data()\n"
   ]
  }
 ],
 "metadata": {
  "kernelspec": {
   "display_name": "Python 3",
   "language": "python",
   "name": "python3"
  },
  "language_info": {
   "codemirror_mode": {
    "name": "ipython",
    "version": 3
   },
   "file_extension": ".py",
   "mimetype": "text/x-python",
   "name": "python",
   "nbconvert_exporter": "python",
   "pygments_lexer": "ipython3",
   "version": "3.10.11"
  }
 },
 "nbformat": 4,
 "nbformat_minor": 5
}
